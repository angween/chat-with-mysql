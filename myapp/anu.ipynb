{
 "cells": [
  {
   "cell_type": "code",
   "execution_count": null,
   "metadata": {},
   "outputs": [],
   "source": [
    "db_user = \"read\"\n",
    "db_password = \"12345\"\n",
    "db_host = \"localhost\"\n",
    "db_name = \"contoh\"\n",
    "\n",
    "from langchain_community.utilities.sql_database import SQLDatabase\n",
    "from langchain.chains import create_sql_query_chain\n",
    "from langchain_community.tools.sql_database.tool import QuerySQLDataBaseTool\n",
    "from langchain_community.llms import Ollama\n",
    "\n",
    "\n",
    "db = SQLDatabase.from_uri(f\"mysql+pymysql://{db_user}:{db_password}@{db_host}/{db_name}\")\n",
    "llm = Ollama(model=\"llama3\")\n"
   ]
  },
  {
   "cell_type": "code",
   "execution_count": null,
   "metadata": {},
   "outputs": [],
   "source": [
    "\n",
    "# ---\n",
    "# Testing db\n",
    "# ---\n",
    "print(db.get_usable_table_names())\n",
    "print(db.table_info)\n"
   ]
  },
  {
   "cell_type": "code",
   "execution_count": null,
   "metadata": {},
   "outputs": [],
   "source": [
    "# ---\n",
    "# perintahkan langchain untuk membuat query ke database berdasar dari informasi database dari db\n",
    "# ---\n",
    "generate_query = create_sql_query_chain(llm, db)\n",
    "# query = generate_query.invoke({\"question\": \"what is price of '1958 Setra Bus'\"})\n",
    "\n",
    "# print(query)\n",
    "\n",
    "\n"
   ]
  },
  {
   "cell_type": "code",
   "execution_count": null,
   "metadata": {},
   "outputs": [],
   "source": [
    "\n",
    "# jalankan hasil query buatan langchain\n",
    "execute_query = QuerySQLDataBaseTool(db=db,verbose=True)\n",
    "# execute_query.invoke(query)\n",
    "\n",
    "\n",
    "chain = generate_query | execute_query\n",
    "# response = chain.invoke({\"question\": \"How many orders are there\"})"
   ]
  },
  {
   "cell_type": "code",
   "execution_count": null,
   "metadata": {},
   "outputs": [],
   "source": [
    "from operator import itemgetter\n",
    "from langchain_core.output_parsers import StrOutputParser\n",
    "from langchain_core.prompts import PromptTemplate\n",
    "from langchain_core.runnables import RunnablePassthrough\n",
    "\n",
    "# Given the following user question, corresponding SQL query, and SQL result, answer the user question. Write only the SQL query and nothing else. Do not wrap the SQL query in any other text, not even backticks. Do not use backslash (\\) to escape underscores (_) in column names. \n",
    "\n",
    "db = SQLDatabase.from_uri(f\"mysql+pymysql://{db_user}:{db_password}@{db_host}/{db_name}\")\n",
    "\n",
    "llm = Ollama(model=\"llama3\")\n",
    "\n",
    "answer_prompt = PromptTemplate.from_template(\"\"\"\n",
    "    Given the following user question, corresponding SQL query, and SQL result, answer the user question. Write only the SQL query and nothing else\n",
    "\n",
    "    Question: {question}\n",
    "    SQL Query: {query}\n",
    "    SQL Result: {result}\n",
    "    Answer: \"\"\"\n",
    ")\n",
    "\n",
    "\n",
    "execute_query = QuerySQLDataBaseTool(db=db,verbose=True)\n",
    "\n",
    "rephrase_answer = answer_prompt | llm | StrOutputParser()\n",
    "\n",
    "chain = (\n",
    "    RunnablePassthrough.assign(query=generate_query).assign(\n",
    "        result=itemgetter(\"query\") | execute_query\n",
    "    )\n",
    "    | rephrase_answer\n",
    ")\n",
    "\n",
    "response = chain.invoke({\"question\": \"Tell me 5 employee name\"})\n",
    "\n",
    "print(response)"
   ]
  }
 ],
 "metadata": {
  "kernelspec": {
   "display_name": "Python 3",
   "language": "python",
   "name": "python3"
  },
  "language_info": {
   "codemirror_mode": {
    "name": "ipython",
    "version": 3
   },
   "file_extension": ".py",
   "mimetype": "text/x-python",
   "name": "python",
   "nbconvert_exporter": "python",
   "pygments_lexer": "ipython3",
   "version": "3.10.6"
  }
 },
 "nbformat": 4,
 "nbformat_minor": 2
}
